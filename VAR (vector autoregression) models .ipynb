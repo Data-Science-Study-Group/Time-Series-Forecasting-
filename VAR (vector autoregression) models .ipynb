{
 "cells": [
  {
   "cell_type": "markdown",
   "metadata": {},
   "source": [
    "### VAR (vector autoregression) models\n",
    "- **In SARIMAX models forecast variable influenced by exogenous(input) variable but not vice-versa**\n",
    "- **When VAR models are great if forecast variable influenced by exogenous(input) variable and vice-versa**\n",
    "- General steps for VAR models:\n",
    " - examine the data\n",
    " - visualize the data\n",
    " - test for stationarity\n",
    " - build a model on training data\n",
    " - predict on test data\n",
    " - forecast for the future"
   ]
  },
  {
   "cell_type": "code",
   "execution_count": 2,
   "metadata": {},
   "outputs": [],
   "source": [
    "import pandas as pd\n",
    "import numpy as np\n",
    "import matplotlib.pyplot as plt\n",
    "import seaborn as sns\n",
    "plt.style.use('seaborn')"
   ]
  },
  {
   "cell_type": "code",
   "execution_count": 3,
   "metadata": {},
   "outputs": [],
   "source": [
    "df1 = pd.read_csv('data/M2SLMoneyStock.csv', index_col= 0, parse_dates= True)\n",
    "df2 = pd.read_csv('data/PCEPersonalSpending.csv', index_col= 0, parse_dates= True)"
   ]
  },
  {
   "cell_type": "code",
   "execution_count": 4,
   "metadata": {},
   "outputs": [
    {
     "data": {
      "text/html": [
       "<div>\n",
       "<style scoped>\n",
       "    .dataframe tbody tr th:only-of-type {\n",
       "        vertical-align: middle;\n",
       "    }\n",
       "\n",
       "    .dataframe tbody tr th {\n",
       "        vertical-align: top;\n",
       "    }\n",
       "\n",
       "    .dataframe thead th {\n",
       "        text-align: right;\n",
       "    }\n",
       "</style>\n",
       "<table border=\"1\" class=\"dataframe\">\n",
       "  <thead>\n",
       "    <tr style=\"text-align: right;\">\n",
       "      <th></th>\n",
       "      <th>Money</th>\n",
       "    </tr>\n",
       "    <tr>\n",
       "      <th>Date</th>\n",
       "      <th></th>\n",
       "    </tr>\n",
       "  </thead>\n",
       "  <tbody>\n",
       "    <tr>\n",
       "      <th>1995-01-01</th>\n",
       "      <td>3492.4</td>\n",
       "    </tr>\n",
       "    <tr>\n",
       "      <th>1995-02-01</th>\n",
       "      <td>3489.9</td>\n",
       "    </tr>\n",
       "    <tr>\n",
       "      <th>1995-03-01</th>\n",
       "      <td>3491.1</td>\n",
       "    </tr>\n",
       "    <tr>\n",
       "      <th>1995-04-01</th>\n",
       "      <td>3499.2</td>\n",
       "    </tr>\n",
       "    <tr>\n",
       "      <th>1995-05-01</th>\n",
       "      <td>3524.2</td>\n",
       "    </tr>\n",
       "  </tbody>\n",
       "</table>\n",
       "</div>"
      ],
      "text/plain": [
       "             Money\n",
       "Date              \n",
       "1995-01-01  3492.4\n",
       "1995-02-01  3489.9\n",
       "1995-03-01  3491.1\n",
       "1995-04-01  3499.2\n",
       "1995-05-01  3524.2"
      ]
     },
     "execution_count": 4,
     "metadata": {},
     "output_type": "execute_result"
    }
   ],
   "source": [
    "df1.head()"
   ]
  },
  {
   "cell_type": "code",
   "execution_count": 5,
   "metadata": {},
   "outputs": [
    {
     "data": {
      "text/html": [
       "<div>\n",
       "<style scoped>\n",
       "    .dataframe tbody tr th:only-of-type {\n",
       "        vertical-align: middle;\n",
       "    }\n",
       "\n",
       "    .dataframe tbody tr th {\n",
       "        vertical-align: top;\n",
       "    }\n",
       "\n",
       "    .dataframe thead th {\n",
       "        text-align: right;\n",
       "    }\n",
       "</style>\n",
       "<table border=\"1\" class=\"dataframe\">\n",
       "  <thead>\n",
       "    <tr style=\"text-align: right;\">\n",
       "      <th></th>\n",
       "      <th>Spending</th>\n",
       "    </tr>\n",
       "    <tr>\n",
       "      <th>Date</th>\n",
       "      <th></th>\n",
       "    </tr>\n",
       "  </thead>\n",
       "  <tbody>\n",
       "    <tr>\n",
       "      <th>1995-01-01</th>\n",
       "      <td>4851.2</td>\n",
       "    </tr>\n",
       "    <tr>\n",
       "      <th>1995-02-01</th>\n",
       "      <td>4850.8</td>\n",
       "    </tr>\n",
       "    <tr>\n",
       "      <th>1995-03-01</th>\n",
       "      <td>4885.4</td>\n",
       "    </tr>\n",
       "    <tr>\n",
       "      <th>1995-04-01</th>\n",
       "      <td>4890.2</td>\n",
       "    </tr>\n",
       "    <tr>\n",
       "      <th>1995-05-01</th>\n",
       "      <td>4933.1</td>\n",
       "    </tr>\n",
       "  </tbody>\n",
       "</table>\n",
       "</div>"
      ],
      "text/plain": [
       "            Spending\n",
       "Date                \n",
       "1995-01-01    4851.2\n",
       "1995-02-01    4850.8\n",
       "1995-03-01    4885.4\n",
       "1995-04-01    4890.2\n",
       "1995-05-01    4933.1"
      ]
     },
     "execution_count": 5,
     "metadata": {},
     "output_type": "execute_result"
    }
   ],
   "source": [
    "df2.head()"
   ]
  },
  {
   "cell_type": "code",
   "execution_count": 7,
   "metadata": {},
   "outputs": [
    {
     "name": "stdout",
     "output_type": "stream",
     "text": [
      "DatetimeIndex(['1995-01-01', '1995-02-01', '1995-03-01', '1995-04-01',\n",
      "               '1995-05-01', '1995-06-01', '1995-07-01', '1995-08-01',\n",
      "               '1995-09-01', '1995-10-01',\n",
      "               ...\n",
      "               '2015-03-01', '2015-04-01', '2015-05-01', '2015-06-01',\n",
      "               '2015-07-01', '2015-08-01', '2015-09-01', '2015-10-01',\n",
      "               '2015-11-01', '2015-12-01'],\n",
      "              dtype='datetime64[ns]', name='Date', length=252, freq=None)\n",
      "DatetimeIndex(['1995-01-01', '1995-02-01', '1995-03-01', '1995-04-01',\n",
      "               '1995-05-01', '1995-06-01', '1995-07-01', '1995-08-01',\n",
      "               '1995-09-01', '1995-10-01',\n",
      "               ...\n",
      "               '2015-03-01', '2015-04-01', '2015-05-01', '2015-06-01',\n",
      "               '2015-07-01', '2015-08-01', '2015-09-01', '2015-10-01',\n",
      "               '2015-11-01', '2015-12-01'],\n",
      "              dtype='datetime64[ns]', name='Date', length=252, freq=None)\n"
     ]
    }
   ],
   "source": [
    "print(df1.index)\n",
    "print(df2.index)"
   ]
  },
  {
   "cell_type": "code",
   "execution_count": 8,
   "metadata": {},
   "outputs": [],
   "source": [
    "df1.index.freq = 'MS'\n",
    "df2.index.freq = 'MS'"
   ]
  },
  {
   "cell_type": "code",
   "execution_count": 9,
   "metadata": {},
   "outputs": [
    {
     "name": "stdout",
     "output_type": "stream",
     "text": [
      "DatetimeIndex(['1995-01-01', '1995-02-01', '1995-03-01', '1995-04-01',\n",
      "               '1995-05-01', '1995-06-01', '1995-07-01', '1995-08-01',\n",
      "               '1995-09-01', '1995-10-01',\n",
      "               ...\n",
      "               '2015-03-01', '2015-04-01', '2015-05-01', '2015-06-01',\n",
      "               '2015-07-01', '2015-08-01', '2015-09-01', '2015-10-01',\n",
      "               '2015-11-01', '2015-12-01'],\n",
      "              dtype='datetime64[ns]', name='Date', length=252, freq='MS')\n",
      "DatetimeIndex(['1995-01-01', '1995-02-01', '1995-03-01', '1995-04-01',\n",
      "               '1995-05-01', '1995-06-01', '1995-07-01', '1995-08-01',\n",
      "               '1995-09-01', '1995-10-01',\n",
      "               ...\n",
      "               '2015-03-01', '2015-04-01', '2015-05-01', '2015-06-01',\n",
      "               '2015-07-01', '2015-08-01', '2015-09-01', '2015-10-01',\n",
      "               '2015-11-01', '2015-12-01'],\n",
      "              dtype='datetime64[ns]', name='Date', length=252, freq='MS')\n"
     ]
    }
   ],
   "source": [
    "print(df1.index)\n",
    "print(df2.index)"
   ]
  },
  {
   "cell_type": "code",
   "execution_count": 10,
   "metadata": {},
   "outputs": [],
   "source": [
    "from statsmodels.tsa.api import VAR\n",
    "from statsmodels.tsa.stattools import adfuller\n",
    "from statsmodels.tools.eval_measures import rmse"
   ]
  },
  {
   "cell_type": "code",
   "execution_count": 11,
   "metadata": {},
   "outputs": [
    {
     "data": {
      "text/html": [
       "<div>\n",
       "<style scoped>\n",
       "    .dataframe tbody tr th:only-of-type {\n",
       "        vertical-align: middle;\n",
       "    }\n",
       "\n",
       "    .dataframe tbody tr th {\n",
       "        vertical-align: top;\n",
       "    }\n",
       "\n",
       "    .dataframe thead th {\n",
       "        text-align: right;\n",
       "    }\n",
       "</style>\n",
       "<table border=\"1\" class=\"dataframe\">\n",
       "  <thead>\n",
       "    <tr style=\"text-align: right;\">\n",
       "      <th></th>\n",
       "      <th>Money</th>\n",
       "      <th>Spending</th>\n",
       "    </tr>\n",
       "    <tr>\n",
       "      <th>Date</th>\n",
       "      <th></th>\n",
       "      <th></th>\n",
       "    </tr>\n",
       "  </thead>\n",
       "  <tbody>\n",
       "    <tr>\n",
       "      <th>1995-01-01</th>\n",
       "      <td>3492.4</td>\n",
       "      <td>4851.2</td>\n",
       "    </tr>\n",
       "    <tr>\n",
       "      <th>1995-02-01</th>\n",
       "      <td>3489.9</td>\n",
       "      <td>4850.8</td>\n",
       "    </tr>\n",
       "    <tr>\n",
       "      <th>1995-03-01</th>\n",
       "      <td>3491.1</td>\n",
       "      <td>4885.4</td>\n",
       "    </tr>\n",
       "    <tr>\n",
       "      <th>1995-04-01</th>\n",
       "      <td>3499.2</td>\n",
       "      <td>4890.2</td>\n",
       "    </tr>\n",
       "    <tr>\n",
       "      <th>1995-05-01</th>\n",
       "      <td>3524.2</td>\n",
       "      <td>4933.1</td>\n",
       "    </tr>\n",
       "  </tbody>\n",
       "</table>\n",
       "</div>"
      ],
      "text/plain": [
       "             Money  Spending\n",
       "Date                        \n",
       "1995-01-01  3492.4    4851.2\n",
       "1995-02-01  3489.9    4850.8\n",
       "1995-03-01  3491.1    4885.4\n",
       "1995-04-01  3499.2    4890.2\n",
       "1995-05-01  3524.2    4933.1"
      ]
     },
     "execution_count": 11,
     "metadata": {},
     "output_type": "execute_result"
    }
   ],
   "source": [
    "# combine the dataframe\n",
    "data = df1.join(df2)\n",
    "data.head()"
   ]
  },
  {
   "cell_type": "code",
   "execution_count": 12,
   "metadata": {},
   "outputs": [
    {
     "data": {
      "text/plain": [
       "(252, 2)"
      ]
     },
     "execution_count": 12,
     "metadata": {},
     "output_type": "execute_result"
    }
   ],
   "source": [
    "data.shape"
   ]
  },
  {
   "cell_type": "code",
   "execution_count": 13,
   "metadata": {},
   "outputs": [
    {
     "data": {
      "text/html": [
       "<div>\n",
       "<style scoped>\n",
       "    .dataframe tbody tr th:only-of-type {\n",
       "        vertical-align: middle;\n",
       "    }\n",
       "\n",
       "    .dataframe tbody tr th {\n",
       "        vertical-align: top;\n",
       "    }\n",
       "\n",
       "    .dataframe thead th {\n",
       "        text-align: right;\n",
       "    }\n",
       "</style>\n",
       "<table border=\"1\" class=\"dataframe\">\n",
       "  <thead>\n",
       "    <tr style=\"text-align: right;\">\n",
       "      <th></th>\n",
       "      <th>Money</th>\n",
       "      <th>Spending</th>\n",
       "    </tr>\n",
       "    <tr>\n",
       "      <th>Date</th>\n",
       "      <th></th>\n",
       "      <th></th>\n",
       "    </tr>\n",
       "  </thead>\n",
       "  <tbody>\n",
       "    <tr>\n",
       "      <th>2015-08-01</th>\n",
       "      <td>12096.8</td>\n",
       "      <td>12394.0</td>\n",
       "    </tr>\n",
       "    <tr>\n",
       "      <th>2015-09-01</th>\n",
       "      <td>12153.8</td>\n",
       "      <td>12392.8</td>\n",
       "    </tr>\n",
       "    <tr>\n",
       "      <th>2015-10-01</th>\n",
       "      <td>12187.7</td>\n",
       "      <td>12416.1</td>\n",
       "    </tr>\n",
       "    <tr>\n",
       "      <th>2015-11-01</th>\n",
       "      <td>12277.4</td>\n",
       "      <td>12450.1</td>\n",
       "    </tr>\n",
       "    <tr>\n",
       "      <th>2015-12-01</th>\n",
       "      <td>12335.9</td>\n",
       "      <td>12469.1</td>\n",
       "    </tr>\n",
       "  </tbody>\n",
       "</table>\n",
       "</div>"
      ],
      "text/plain": [
       "              Money  Spending\n",
       "Date                         \n",
       "2015-08-01  12096.8   12394.0\n",
       "2015-09-01  12153.8   12392.8\n",
       "2015-10-01  12187.7   12416.1\n",
       "2015-11-01  12277.4   12450.1\n",
       "2015-12-01  12335.9   12469.1"
      ]
     },
     "execution_count": 13,
     "metadata": {},
     "output_type": "execute_result"
    }
   ],
   "source": [
    "data.tail()"
   ]
  },
  {
   "cell_type": "code",
   "execution_count": 14,
   "metadata": {},
   "outputs": [
    {
     "data": {
      "text/plain": [
       "Money       0\n",
       "Spending    0\n",
       "dtype: int64"
      ]
     },
     "execution_count": 14,
     "metadata": {},
     "output_type": "execute_result"
    }
   ],
   "source": [
    "data.isna().sum()"
   ]
  },
  {
   "cell_type": "code",
   "execution_count": 15,
   "metadata": {},
   "outputs": [
    {
     "name": "stdout",
     "output_type": "stream",
     "text": [
      "<class 'pandas.core.frame.DataFrame'>\n",
      "DatetimeIndex: 252 entries, 1995-01-01 to 2015-12-01\n",
      "Freq: MS\n",
      "Data columns (total 2 columns):\n",
      " #   Column    Non-Null Count  Dtype  \n",
      "---  ------    --------------  -----  \n",
      " 0   Money     252 non-null    float64\n",
      " 1   Spending  252 non-null    float64\n",
      "dtypes: float64(2)\n",
      "memory usage: 15.9 KB\n"
     ]
    }
   ],
   "source": [
    "data.info()"
   ]
  },
  {
   "cell_type": "code",
   "execution_count": 18,
   "metadata": {},
   "outputs": [
    {
     "data": {
      "text/html": [
       "<div>\n",
       "<style scoped>\n",
       "    .dataframe tbody tr th:only-of-type {\n",
       "        vertical-align: middle;\n",
       "    }\n",
       "\n",
       "    .dataframe tbody tr th {\n",
       "        vertical-align: top;\n",
       "    }\n",
       "\n",
       "    .dataframe thead th {\n",
       "        text-align: right;\n",
       "    }\n",
       "</style>\n",
       "<table border=\"1\" class=\"dataframe\">\n",
       "  <thead>\n",
       "    <tr style=\"text-align: right;\">\n",
       "      <th></th>\n",
       "      <th>Money</th>\n",
       "      <th>Spending</th>\n",
       "    </tr>\n",
       "  </thead>\n",
       "  <tbody>\n",
       "    <tr>\n",
       "      <th>count</th>\n",
       "      <td>252.000000</td>\n",
       "      <td>252.000000</td>\n",
       "    </tr>\n",
       "    <tr>\n",
       "      <th>mean</th>\n",
       "      <td>6978.151190</td>\n",
       "      <td>8562.311905</td>\n",
       "    </tr>\n",
       "    <tr>\n",
       "      <th>std</th>\n",
       "      <td>2554.325115</td>\n",
       "      <td>2231.933352</td>\n",
       "    </tr>\n",
       "    <tr>\n",
       "      <th>min</th>\n",
       "      <td>3489.900000</td>\n",
       "      <td>4850.800000</td>\n",
       "    </tr>\n",
       "    <tr>\n",
       "      <th>25%</th>\n",
       "      <td>4732.875000</td>\n",
       "      <td>6682.125000</td>\n",
       "    </tr>\n",
       "    <tr>\n",
       "      <th>50%</th>\n",
       "      <td>6507.400000</td>\n",
       "      <td>8777.150000</td>\n",
       "    </tr>\n",
       "    <tr>\n",
       "      <th>75%</th>\n",
       "      <td>8699.700000</td>\n",
       "      <td>10262.925000</td>\n",
       "    </tr>\n",
       "    <tr>\n",
       "      <th>max</th>\n",
       "      <td>12335.900000</td>\n",
       "      <td>12469.100000</td>\n",
       "    </tr>\n",
       "  </tbody>\n",
       "</table>\n",
       "</div>"
      ],
      "text/plain": [
       "              Money      Spending\n",
       "count    252.000000    252.000000\n",
       "mean    6978.151190   8562.311905\n",
       "std     2554.325115   2231.933352\n",
       "min     3489.900000   4850.800000\n",
       "25%     4732.875000   6682.125000\n",
       "50%     6507.400000   8777.150000\n",
       "75%     8699.700000  10262.925000\n",
       "max    12335.900000  12469.100000"
      ]
     },
     "execution_count": 18,
     "metadata": {},
     "output_type": "execute_result"
    }
   ],
   "source": [
    "data.describe()"
   ]
  },
  {
   "cell_type": "code",
   "execution_count": 24,
   "metadata": {},
   "outputs": [
    {
     "data": {
      "image/png": "[encoded data removed]",
      "text/plain": [
       "<Figure size 1080x360 with 2 Axes>"
      ]
     },
     "metadata": {},
     "output_type": "display_data"
    }
   ],
   "source": [
    "# data distribution\n",
    "data.hist(figsize = (15,5))\n",
    "plt.show()"
   ]
  },
  {
   "cell_type": "code",
   "execution_count": 26,
   "metadata": {},
   "outputs": [
    {
     "data": {
      "image/png": "[encoded data removed]",
      "text/plain": [
       "<Figure size 1080x360 with 1 Axes>"
      ]
     },
     "metadata": {},
     "output_type": "display_data"
    }
   ],
   "source": [
    "data.plot(figsize = (15,5),legend = True)\n",
    "plt.show()"
   ]
  },
  {
   "cell_type": "code",
   "execution_count": 27,
   "metadata": {},
   "outputs": [],
   "source": [
    "# test for stationarity\n",
    "# augmented dickey-fuller test (adf)\n",
    "\n",
    "def adf_test(series,title=''):\n",
    "    \"\"\"\n",
    "    Pass in a time series and an optional title, returns an ADF report\n",
    "    \"\"\"\n",
    "    print(f'Augmented Dickey-Fuller Test: {title}')\n",
    "    result = adfuller(series.dropna(),autolag='AIC') # .dropna() handles differenced data\n",
    "    \n",
    "    labels = ['ADF test statistic','p-value','# lags used','# observations']\n",
    "    out = pd.Series(result[0:4],index=labels)\n",
    "\n",
    "    for key,val in result[4].items():\n",
    "        out[f'critical value ({key})']=val\n",
    "        \n",
    "    print(out.to_string())          # .to_string() removes the line \"dtype: float64\"\n",
    "    \n",
    "    if result[1] <= 0.05:\n",
    "        print(\"Strong evidence against the null hypothesis\")\n",
    "        print(\"Reject the null hypothesis\")\n",
    "        print(\"Data has no unit root and is stationary\")\n",
    "    else:\n",
    "        print(\"Weak evidence against the null hypothesis\")\n",
    "        print(\"Fail to reject the null hypothesis\")\n",
    "        print(\"Data has a unit root and is non-stationary\")"
   ]
  },
  {
   "cell_type": "code",
   "execution_count": 28,
   "metadata": {},
   "outputs": [
    {
     "name": "stdout",
     "output_type": "stream",
     "text": [
      "Augmented Dickey-Fuller Test: \n",
      "ADF test statistic        4.239022\n",
      "p-value                   1.000000\n",
      "# lags used               4.000000\n",
      "# observations          247.000000\n",
      "critical value (1%)      -3.457105\n",
      "critical value (5%)      -2.873314\n",
      "critical value (10%)     -2.573044\n",
      "Weak evidence against the null hypothesis\n",
      "Fail to reject the null hypothesis\n",
      "Data has a unit root and is non-stationary\n"
     ]
    }
   ],
   "source": [
    "adf_test(data['Money'])"
   ]
  },
  {
   "cell_type": "code",
   "execution_count": 29,
   "metadata": {},
   "outputs": [
    {
     "name": "stdout",
     "output_type": "stream",
     "text": [
      "Augmented Dickey-Fuller Test: \n",
      "ADF test statistic        0.149796\n",
      "p-value                   0.969301\n",
      "# lags used               3.000000\n",
      "# observations          248.000000\n",
      "critical value (1%)      -3.456996\n",
      "critical value (5%)      -2.873266\n",
      "critical value (10%)     -2.573019\n",
      "Weak evidence against the null hypothesis\n",
      "Fail to reject the null hypothesis\n",
      "Data has a unit root and is non-stationary\n"
     ]
    }
   ],
   "source": [
    "adf_test(data['Spending'])"
   ]
  },
  {
   "cell_type": "code",
   "execution_count": 30,
   "metadata": {},
   "outputs": [
    {
     "data": {
      "text/html": [
       "<div>\n",
       "<style scoped>\n",
       "    .dataframe tbody tr th:only-of-type {\n",
       "        vertical-align: middle;\n",
       "    }\n",
       "\n",
       "    .dataframe tbody tr th {\n",
       "        vertical-align: top;\n",
       "    }\n",
       "\n",
       "    .dataframe thead th {\n",
       "        text-align: right;\n",
       "    }\n",
       "</style>\n",
       "<table border=\"1\" class=\"dataframe\">\n",
       "  <thead>\n",
       "    <tr style=\"text-align: right;\">\n",
       "      <th></th>\n",
       "      <th>Money</th>\n",
       "      <th>Spending</th>\n",
       "    </tr>\n",
       "    <tr>\n",
       "      <th>Date</th>\n",
       "      <th></th>\n",
       "      <th></th>\n",
       "    </tr>\n",
       "  </thead>\n",
       "  <tbody>\n",
       "    <tr>\n",
       "      <th>1995-01-01</th>\n",
       "      <td>NaN</td>\n",
       "      <td>NaN</td>\n",
       "    </tr>\n",
       "    <tr>\n",
       "      <th>1995-02-01</th>\n",
       "      <td>-2.5</td>\n",
       "      <td>-0.4</td>\n",
       "    </tr>\n",
       "    <tr>\n",
       "      <th>1995-03-01</th>\n",
       "      <td>1.2</td>\n",
       "      <td>34.6</td>\n",
       "    </tr>\n",
       "    <tr>\n",
       "      <th>1995-04-01</th>\n",
       "      <td>8.1</td>\n",
       "      <td>4.8</td>\n",
       "    </tr>\n",
       "    <tr>\n",
       "      <th>1995-05-01</th>\n",
       "      <td>25.0</td>\n",
       "      <td>42.9</td>\n",
       "    </tr>\n",
       "  </tbody>\n",
       "</table>\n",
       "</div>"
      ],
      "text/plain": [
       "            Money  Spending\n",
       "Date                       \n",
       "1995-01-01    NaN       NaN\n",
       "1995-02-01   -2.5      -0.4\n",
       "1995-03-01    1.2      34.6\n",
       "1995-04-01    8.1       4.8\n",
       "1995-05-01   25.0      42.9"
      ]
     },
     "execution_count": 30,
     "metadata": {},
     "output_type": "execute_result"
    }
   ],
   "source": [
    "data_transfomed = data.diff()\n",
    "data_transfomed.head()"
   ]
  },
  {
   "cell_type": "code",
   "execution_count": 31,
   "metadata": {},
   "outputs": [
    {
     "name": "stdout",
     "output_type": "stream",
     "text": [
      "Augmented Dickey-Fuller Test: \n",
      "ADF test statistic       -2.057404\n",
      "p-value                   0.261984\n",
      "# lags used              15.000000\n",
      "# observations          235.000000\n",
      "critical value (1%)      -3.458487\n",
      "critical value (5%)      -2.873919\n",
      "critical value (10%)     -2.573367\n",
      "Weak evidence against the null hypothesis\n",
      "Fail to reject the null hypothesis\n",
      "Data has a unit root and is non-stationary\n"
     ]
    }
   ],
   "source": [
    "adf_test(data_transfomed['Money'])"
   ]
  },
  {
   "cell_type": "code",
   "execution_count": 32,
   "metadata": {},
   "outputs": [
    {
     "name": "stdout",
     "output_type": "stream",
     "text": [
      "Augmented Dickey-Fuller Test: \n",
      "ADF test statistic     -7.226974e+00\n",
      "p-value                 2.041027e-10\n",
      "# lags used             2.000000e+00\n",
      "# observations          2.480000e+02\n",
      "critical value (1%)    -3.456996e+00\n",
      "critical value (5%)    -2.873266e+00\n",
      "critical value (10%)   -2.573019e+00\n",
      "Strong evidence against the null hypothesis\n",
      "Reject the null hypothesis\n",
      "Data has no unit root and is stationary\n"
     ]
    }
   ],
   "source": [
    "adf_test(data_transfomed['Spending'])"
   ]
  },
  {
   "cell_type": "code",
   "execution_count": 33,
   "metadata": {},
   "outputs": [
    {
     "data": {
      "text/html": [
       "<div>\n",
       "<style scoped>\n",
       "    .dataframe tbody tr th:only-of-type {\n",
       "        vertical-align: middle;\n",
       "    }\n",
       "\n",
       "    .dataframe tbody tr th {\n",
       "        vertical-align: top;\n",
       "    }\n",
       "\n",
       "    .dataframe thead th {\n",
       "        text-align: right;\n",
       "    }\n",
       "</style>\n",
       "<table border=\"1\" class=\"dataframe\">\n",
       "  <thead>\n",
       "    <tr style=\"text-align: right;\">\n",
       "      <th></th>\n",
       "      <th>Money</th>\n",
       "      <th>Spending</th>\n",
       "    </tr>\n",
       "    <tr>\n",
       "      <th>Date</th>\n",
       "      <th></th>\n",
       "      <th></th>\n",
       "    </tr>\n",
       "  </thead>\n",
       "  <tbody>\n",
       "    <tr>\n",
       "      <th>1995-03-01</th>\n",
       "      <td>3.7</td>\n",
       "      <td>35.0</td>\n",
       "    </tr>\n",
       "    <tr>\n",
       "      <th>1995-04-01</th>\n",
       "      <td>6.9</td>\n",
       "      <td>-29.8</td>\n",
       "    </tr>\n",
       "    <tr>\n",
       "      <th>1995-05-01</th>\n",
       "      <td>16.9</td>\n",
       "      <td>38.1</td>\n",
       "    </tr>\n",
       "    <tr>\n",
       "      <th>1995-06-01</th>\n",
       "      <td>-0.3</td>\n",
       "      <td>1.5</td>\n",
       "    </tr>\n",
       "    <tr>\n",
       "      <th>1995-07-01</th>\n",
       "      <td>-6.2</td>\n",
       "      <td>-51.7</td>\n",
       "    </tr>\n",
       "  </tbody>\n",
       "</table>\n",
       "</div>"
      ],
      "text/plain": [
       "            Money  Spending\n",
       "Date                       \n",
       "1995-03-01    3.7      35.0\n",
       "1995-04-01    6.9     -29.8\n",
       "1995-05-01   16.9      38.1\n",
       "1995-06-01   -0.3       1.5\n",
       "1995-07-01   -6.2     -51.7"
      ]
     },
     "execution_count": 33,
     "metadata": {},
     "output_type": "execute_result"
    }
   ],
   "source": [
    "# seems to be \"money\" column is not yet stationary\n",
    "data_transfomed = data_transfomed.diff().dropna()\n",
    "data_transfomed.head()"
   ]
  },
  {
   "cell_type": "code",
   "execution_count": 34,
   "metadata": {},
   "outputs": [
    {
     "name": "stdout",
     "output_type": "stream",
     "text": [
      "Augmented Dickey-Fuller Test: \n",
      "ADF test statistic     -7.077471e+00\n",
      "p-value                 4.760675e-10\n",
      "# lags used             1.400000e+01\n",
      "# observations          2.350000e+02\n",
      "critical value (1%)    -3.458487e+00\n",
      "critical value (5%)    -2.873919e+00\n",
      "critical value (10%)   -2.573367e+00\n",
      "Strong evidence against the null hypothesis\n",
      "Reject the null hypothesis\n",
      "Data has no unit root and is stationary\n"
     ]
    }
   ],
   "source": [
    "adf_test(data_transfomed['Money'])"
   ]
  },
  {
   "cell_type": "code",
   "execution_count": 35,
   "metadata": {},
   "outputs": [
    {
     "name": "stdout",
     "output_type": "stream",
     "text": [
      "Augmented Dickey-Fuller Test: \n",
      "ADF test statistic     -8.760145e+00\n",
      "p-value                 2.687900e-14\n",
      "# lags used             8.000000e+00\n",
      "# observations          2.410000e+02\n",
      "critical value (1%)    -3.457779e+00\n",
      "critical value (5%)    -2.873609e+00\n",
      "critical value (10%)   -2.573202e+00\n",
      "Strong evidence against the null hypothesis\n",
      "Reject the null hypothesis\n",
      "Data has no unit root and is stationary\n"
     ]
    }
   ],
   "source": [
    "adf_test(data_transfomed['Spending'])"
   ]
  },
  {
   "cell_type": "code",
   "execution_count": 36,
   "metadata": {},
   "outputs": [],
   "source": [
    "# train and test split\n",
    "nobs = 12 # number of observations\n",
    "train = data_transfomed[ :-nobs]\n",
    "test = data_transfomed[-nobs: ]"
   ]
  },
  {
   "cell_type": "code",
   "execution_count": 37,
   "metadata": {},
   "outputs": [
    {
     "name": "stdout",
     "output_type": "stream",
     "text": [
      "(238, 2)\n",
      "(12, 2)\n"
     ]
    }
   ],
   "source": [
    "print(train.shape)\n",
    "print(test.shape)"
   ]
  },
  {
   "cell_type": "code",
   "execution_count": 38,
   "metadata": {},
   "outputs": [
    {
     "name": "stdout",
     "output_type": "stream",
     "text": [
      "order 0\n",
      "aic value : 14.74710921809045\n",
      "\n",
      "\n",
      "order 1\n",
      "aic value : 14.178610495220896\n",
      "\n",
      "\n",
      "order 2\n",
      "aic value : 13.955189367163705\n",
      "\n",
      "\n",
      "order 3\n",
      "aic value : 13.849518291541038\n",
      "\n",
      "\n",
      "order 4\n",
      "aic value : 13.827950574458283\n",
      "\n",
      "\n",
      "order 5\n",
      "aic value : 13.78730034460964\n",
      "\n",
      "\n",
      "order 6\n",
      "aic value : 13.799076756885809\n",
      "\n",
      "\n",
      "order 7\n",
      "aic value : 13.797638727913972\n",
      "\n",
      "\n"
     ]
    }
   ],
   "source": [
    "# gridsearch for order of VAR - p component\n",
    "# choose low value of AIC\n",
    "model  = VAR(train)\n",
    "\n",
    "for p in range(8):\n",
    "    \n",
    "    results = model.fit(p)\n",
    "    print('order {}'.format(p))\n",
    "    print('aic value : {}'.format(results.aic))\n",
    "    print('\\n')"
   ]
  },
  {
   "cell_type": "code",
   "execution_count": 39,
   "metadata": {},
   "outputs": [
    {
     "data": {
      "text/plain": [
       "  Summary of Regression Results   \n",
       "==================================\n",
       "Model:                         VAR\n",
       "Method:                        OLS\n",
       "Date:           Thu, 23, Jul, 2020\n",
       "Time:                     12:22:13\n",
       "--------------------------------------------------------------------\n",
       "No. of Equations:         2.00000    BIC:                    14.1131\n",
       "Nobs:                     233.000    HQIC:                   13.9187\n",
       "Log likelihood:          -2245.45    FPE:                    972321.\n",
       "AIC:                      13.7873    Det(Omega_mle):         886628.\n",
       "--------------------------------------------------------------------\n",
       "Results for equation Money\n",
       "==============================================================================\n",
       "                 coefficient       std. error           t-stat            prob\n",
       "------------------------------------------------------------------------------\n",
       "const               0.516683         1.782238            0.290           0.772\n",
       "L1.Money           -0.646232         0.068177           -9.479           0.000\n",
       "L1.Spending        -0.107411         0.051388           -2.090           0.037\n",
       "L2.Money           -0.497482         0.077749           -6.399           0.000\n",
       "L2.Spending        -0.192202         0.068613           -2.801           0.005\n",
       "L3.Money           -0.234442         0.081004           -2.894           0.004\n",
       "L3.Spending        -0.178099         0.074288           -2.397           0.017\n",
       "L4.Money           -0.295531         0.075294           -3.925           0.000\n",
       "L4.Spending        -0.035564         0.069664           -0.511           0.610\n",
       "L5.Money           -0.162399         0.066700           -2.435           0.015\n",
       "L5.Spending        -0.058449         0.051357           -1.138           0.255\n",
       "==============================================================================\n",
       "\n",
       "Results for equation Spending\n",
       "==============================================================================\n",
       "                 coefficient       std. error           t-stat            prob\n",
       "------------------------------------------------------------------------------\n",
       "const               0.203469         2.355446            0.086           0.931\n",
       "L1.Money            0.188105         0.090104            2.088           0.037\n",
       "L1.Spending        -0.878970         0.067916          -12.942           0.000\n",
       "L2.Money            0.053017         0.102755            0.516           0.606\n",
       "L2.Spending        -0.625313         0.090681           -6.896           0.000\n",
       "L3.Money           -0.022172         0.107057           -0.207           0.836\n",
       "L3.Spending        -0.389041         0.098180           -3.963           0.000\n",
       "L4.Money           -0.170456         0.099510           -1.713           0.087\n",
       "L4.Spending        -0.245435         0.092069           -2.666           0.008\n",
       "L5.Money           -0.083165         0.088153           -0.943           0.345\n",
       "L5.Spending        -0.181699         0.067874           -2.677           0.007\n",
       "==============================================================================\n",
       "\n",
       "Correlation matrix of residuals\n",
       "               Money  Spending\n",
       "Money       1.000000 -0.267934\n",
       "Spending   -0.267934  1.000000\n",
       "\n"
      ]
     },
     "execution_count": 39,
     "metadata": {},
     "output_type": "execute_result"
    }
   ],
   "source": [
    "results = model.fit(5) # choose order = 5 where AIC is low\n",
    "results.summary()"
   ]
  },
  {
   "cell_type": "code",
   "execution_count": 40,
   "metadata": {},
   "outputs": [
    {
     "data": {
      "text/html": [
       "<div>\n",
       "<style scoped>\n",
       "    .dataframe tbody tr th:only-of-type {\n",
       "        vertical-align: middle;\n",
       "    }\n",
       "\n",
       "    .dataframe tbody tr th {\n",
       "        vertical-align: top;\n",
       "    }\n",
       "\n",
       "    .dataframe thead th {\n",
       "        text-align: right;\n",
       "    }\n",
       "</style>\n",
       "<table border=\"1\" class=\"dataframe\">\n",
       "  <thead>\n",
       "    <tr style=\"text-align: right;\">\n",
       "      <th></th>\n",
       "      <th>Money</th>\n",
       "      <th>Spending</th>\n",
       "    </tr>\n",
       "    <tr>\n",
       "      <th>Date</th>\n",
       "      <th></th>\n",
       "      <th></th>\n",
       "    </tr>\n",
       "  </thead>\n",
       "  <tbody>\n",
       "    <tr>\n",
       "      <th>2015-01-01</th>\n",
       "      <td>-15.5</td>\n",
       "      <td>-26.6</td>\n",
       "    </tr>\n",
       "    <tr>\n",
       "      <th>2015-02-01</th>\n",
       "      <td>56.1</td>\n",
       "      <td>52.4</td>\n",
       "    </tr>\n",
       "    <tr>\n",
       "      <th>2015-03-01</th>\n",
       "      <td>-102.8</td>\n",
       "      <td>39.5</td>\n",
       "    </tr>\n",
       "    <tr>\n",
       "      <th>2015-04-01</th>\n",
       "      <td>30.9</td>\n",
       "      <td>-40.4</td>\n",
       "    </tr>\n",
       "    <tr>\n",
       "      <th>2015-05-01</th>\n",
       "      <td>-15.8</td>\n",
       "      <td>38.8</td>\n",
       "    </tr>\n",
       "    <tr>\n",
       "      <th>2015-06-01</th>\n",
       "      <td>14.0</td>\n",
       "      <td>-34.1</td>\n",
       "    </tr>\n",
       "    <tr>\n",
       "      <th>2015-07-01</th>\n",
       "      <td>6.7</td>\n",
       "      <td>6.9</td>\n",
       "    </tr>\n",
       "    <tr>\n",
       "      <th>2015-08-01</th>\n",
       "      <td>-0.7</td>\n",
       "      <td>-8.5</td>\n",
       "    </tr>\n",
       "    <tr>\n",
       "      <th>2015-09-01</th>\n",
       "      <td>5.5</td>\n",
       "      <td>-39.8</td>\n",
       "    </tr>\n",
       "    <tr>\n",
       "      <th>2015-10-01</th>\n",
       "      <td>-23.1</td>\n",
       "      <td>24.5</td>\n",
       "    </tr>\n",
       "    <tr>\n",
       "      <th>2015-11-01</th>\n",
       "      <td>55.8</td>\n",
       "      <td>10.7</td>\n",
       "    </tr>\n",
       "    <tr>\n",
       "      <th>2015-12-01</th>\n",
       "      <td>-31.2</td>\n",
       "      <td>-15.0</td>\n",
       "    </tr>\n",
       "  </tbody>\n",
       "</table>\n",
       "</div>"
      ],
      "text/plain": [
       "            Money  Spending\n",
       "Date                       \n",
       "2015-01-01  -15.5     -26.6\n",
       "2015-02-01   56.1      52.4\n",
       "2015-03-01 -102.8      39.5\n",
       "2015-04-01   30.9     -40.4\n",
       "2015-05-01  -15.8      38.8\n",
       "2015-06-01   14.0     -34.1\n",
       "2015-07-01    6.7       6.9\n",
       "2015-08-01   -0.7      -8.5\n",
       "2015-09-01    5.5     -39.8\n",
       "2015-10-01  -23.1      24.5\n",
       "2015-11-01   55.8      10.7\n",
       "2015-12-01  -31.2     -15.0"
      ]
     },
     "execution_count": 40,
     "metadata": {},
     "output_type": "execute_result"
    }
   ],
   "source": [
    "test"
   ]
  },
  {
   "cell_type": "code",
   "execution_count": 41,
   "metadata": {},
   "outputs": [
    {
     "data": {
      "text/plain": [
       "array([[-31.9,  40.3],\n",
       "       [  5.6, -70.7],\n",
       "       [ 25.5,  52.5],\n",
       "       [-21.3, -37.2],\n",
       "       [ 39.5, -17.8]])"
      ]
     },
     "execution_count": 41,
     "metadata": {},
     "output_type": "execute_result"
    }
   ],
   "source": [
    "# grab 5 lagged values before test starts\n",
    "# it should be a numpy array\n",
    "lagged_values = train.values[-5:]\n",
    "lagged_values"
   ]
  },
  {
   "cell_type": "code",
   "execution_count": 42,
   "metadata": {},
   "outputs": [
    {
     "data": {
      "text/plain": [
       "array([[-16.99527634,  36.14982003],\n",
       "       [ -3.17403756, -11.45029844],\n",
       "       [ -0.377725  ,  -6.68496939],\n",
       "       [ -2.60223305,   5.47945777],\n",
       "       [  4.228557  ,  -2.44336505],\n",
       "       [  1.55939341,   0.38763902],\n",
       "       [ -0.99841027,   3.88368011],\n",
       "       [  0.36451042,  -2.3561014 ],\n",
       "       [ -1.21062726,  -1.22414652],\n",
       "       [  0.22587712,   0.786927  ],\n",
       "       [  1.33893884,   0.18097449],\n",
       "       [ -0.21858453,   0.21275046]])"
      ]
     },
     "execution_count": 42,
     "metadata": {},
     "output_type": "execute_result"
    }
   ],
   "source": [
    "results.forecast(y = lagged_values, steps = 12)"
   ]
  },
  {
   "cell_type": "code",
   "execution_count": 43,
   "metadata": {},
   "outputs": [],
   "source": [
    "z = results.forecast(y = lagged_values, steps = 12)"
   ]
  },
  {
   "cell_type": "code",
   "execution_count": 44,
   "metadata": {},
   "outputs": [
    {
     "data": {
      "text/plain": [
       "DatetimeIndex(['2015-01-01', '2015-02-01', '2015-03-01', '2015-04-01',\n",
       "               '2015-05-01', '2015-06-01', '2015-07-01', '2015-08-01',\n",
       "               '2015-09-01', '2015-10-01', '2015-11-01', '2015-12-01'],\n",
       "              dtype='datetime64[ns]', freq='MS')"
      ]
     },
     "execution_count": 44,
     "metadata": {},
     "output_type": "execute_result"
    }
   ],
   "source": [
    "idx = pd.date_range('2015-01-01', periods= 12, freq= 'MS') # give test data starting date\n",
    "idx"
   ]
  },
  {
   "cell_type": "code",
   "execution_count": 45,
   "metadata": {},
   "outputs": [
    {
     "data": {
      "text/html": [
       "<div>\n",
       "<style scoped>\n",
       "    .dataframe tbody tr th:only-of-type {\n",
       "        vertical-align: middle;\n",
       "    }\n",
       "\n",
       "    .dataframe tbody tr th {\n",
       "        vertical-align: top;\n",
       "    }\n",
       "\n",
       "    .dataframe thead th {\n",
       "        text-align: right;\n",
       "    }\n",
       "</style>\n",
       "<table border=\"1\" class=\"dataframe\">\n",
       "  <thead>\n",
       "    <tr style=\"text-align: right;\">\n",
       "      <th></th>\n",
       "      <th>Money_2d</th>\n",
       "      <th>Spending_2d</th>\n",
       "    </tr>\n",
       "  </thead>\n",
       "  <tbody>\n",
       "    <tr>\n",
       "      <th>2015-01-01</th>\n",
       "      <td>-16.995276</td>\n",
       "      <td>36.149820</td>\n",
       "    </tr>\n",
       "    <tr>\n",
       "      <th>2015-02-01</th>\n",
       "      <td>-3.174038</td>\n",
       "      <td>-11.450298</td>\n",
       "    </tr>\n",
       "    <tr>\n",
       "      <th>2015-03-01</th>\n",
       "      <td>-0.377725</td>\n",
       "      <td>-6.684969</td>\n",
       "    </tr>\n",
       "    <tr>\n",
       "      <th>2015-04-01</th>\n",
       "      <td>-2.602233</td>\n",
       "      <td>5.479458</td>\n",
       "    </tr>\n",
       "    <tr>\n",
       "      <th>2015-05-01</th>\n",
       "      <td>4.228557</td>\n",
       "      <td>-2.443365</td>\n",
       "    </tr>\n",
       "    <tr>\n",
       "      <th>2015-06-01</th>\n",
       "      <td>1.559393</td>\n",
       "      <td>0.387639</td>\n",
       "    </tr>\n",
       "    <tr>\n",
       "      <th>2015-07-01</th>\n",
       "      <td>-0.998410</td>\n",
       "      <td>3.883680</td>\n",
       "    </tr>\n",
       "    <tr>\n",
       "      <th>2015-08-01</th>\n",
       "      <td>0.364510</td>\n",
       "      <td>-2.356101</td>\n",
       "    </tr>\n",
       "    <tr>\n",
       "      <th>2015-09-01</th>\n",
       "      <td>-1.210627</td>\n",
       "      <td>-1.224147</td>\n",
       "    </tr>\n",
       "    <tr>\n",
       "      <th>2015-10-01</th>\n",
       "      <td>0.225877</td>\n",
       "      <td>0.786927</td>\n",
       "    </tr>\n",
       "    <tr>\n",
       "      <th>2015-11-01</th>\n",
       "      <td>1.338939</td>\n",
       "      <td>0.180974</td>\n",
       "    </tr>\n",
       "    <tr>\n",
       "      <th>2015-12-01</th>\n",
       "      <td>-0.218585</td>\n",
       "      <td>0.212750</td>\n",
       "    </tr>\n",
       "  </tbody>\n",
       "</table>\n",
       "</div>"
      ],
      "text/plain": [
       "             Money_2d  Spending_2d\n",
       "2015-01-01 -16.995276    36.149820\n",
       "2015-02-01  -3.174038   -11.450298\n",
       "2015-03-01  -0.377725    -6.684969\n",
       "2015-04-01  -2.602233     5.479458\n",
       "2015-05-01   4.228557    -2.443365\n",
       "2015-06-01   1.559393     0.387639\n",
       "2015-07-01  -0.998410     3.883680\n",
       "2015-08-01   0.364510    -2.356101\n",
       "2015-09-01  -1.210627    -1.224147\n",
       "2015-10-01   0.225877     0.786927\n",
       "2015-11-01   1.338939     0.180974\n",
       "2015-12-01  -0.218585     0.212750"
      ]
     },
     "execution_count": 45,
     "metadata": {},
     "output_type": "execute_result"
    }
   ],
   "source": [
    "df_forecast = pd.DataFrame(data = z, index= idx, columns= ['Money_2d', 'Spending_2d'])\n",
    "df_forecast"
   ]
  },
  {
   "cell_type": "markdown",
   "metadata": {},
   "source": [
    "### Invert the Transformation\n",
    "- Remember that the forecasted values represent second-order differences. To compare them to the original data we have to roll back each difference. To roll back a first-order difference we take the most recent value on the training side of the original series, and add it to a cumulative sum of forecasted values. When working with second-order differences we first must perform this operation on the most recent first-order difference.\n",
    "\n",
    "- Here we'll use the nobs variable we defined during the train/test/split step."
   ]
  },
  {
   "cell_type": "code",
   "execution_count": 47,
   "metadata": {},
   "outputs": [],
   "source": [
    "# Add the most recent first difference from the training side of the original dataset to the forecast cumulative sum\n",
    "df_forecast['Money1d'] = (data['Money'].iloc[-nobs-1]-data['Money'].iloc[-nobs-2]) + df_forecast['Money_2d'].cumsum()\n",
    "\n",
    "# Now build the forecast values from the first difference set\n",
    "df_forecast['MoneyForecast'] = data['Money'].iloc[-nobs-1] + df_forecast['Money1d'].cumsum()"
   ]
  },
  {
   "cell_type": "code",
   "execution_count": 48,
   "metadata": {},
   "outputs": [],
   "source": [
    "# Add the most recent first difference from the training side of the original dataset to the forecast cumulative sum\n",
    "df_forecast['Spending1d'] = (data['Spending'].iloc[-nobs-1]-data['Spending'].iloc[-nobs-2]) + df_forecast['Spending_2d'].cumsum()\n",
    "\n",
    "# Now build the forecast values from the first difference set\n",
    "df_forecast['SpendingForecast'] = data['Spending'].iloc[-nobs-1] + df_forecast['Spending1d'].cumsum()"
   ]
  },
  {
   "cell_type": "code",
   "execution_count": 49,
   "metadata": {},
   "outputs": [
    {
     "data": {
      "text/html": [
       "<div>\n",
       "<style scoped>\n",
       "    .dataframe tbody tr th:only-of-type {\n",
       "        vertical-align: middle;\n",
       "    }\n",
       "\n",
       "    .dataframe tbody tr th {\n",
       "        vertical-align: top;\n",
       "    }\n",
       "\n",
       "    .dataframe thead th {\n",
       "        text-align: right;\n",
       "    }\n",
       "</style>\n",
       "<table border=\"1\" class=\"dataframe\">\n",
       "  <thead>\n",
       "    <tr style=\"text-align: right;\">\n",
       "      <th></th>\n",
       "      <th>Money_2d</th>\n",
       "      <th>Spending_2d</th>\n",
       "      <th>Money1d</th>\n",
       "      <th>MoneyForecast</th>\n",
       "      <th>Spending1d</th>\n",
       "      <th>SpendingForecast</th>\n",
       "    </tr>\n",
       "  </thead>\n",
       "  <tbody>\n",
       "    <tr>\n",
       "      <th>2015-01-01</th>\n",
       "      <td>-16.995276</td>\n",
       "      <td>36.149820</td>\n",
       "      <td>61.604724</td>\n",
       "      <td>11731.704724</td>\n",
       "      <td>46.749820</td>\n",
       "      <td>12108.749820</td>\n",
       "    </tr>\n",
       "    <tr>\n",
       "      <th>2015-02-01</th>\n",
       "      <td>-3.174038</td>\n",
       "      <td>-11.450298</td>\n",
       "      <td>58.430686</td>\n",
       "      <td>11790.135410</td>\n",
       "      <td>35.299522</td>\n",
       "      <td>12144.049342</td>\n",
       "    </tr>\n",
       "    <tr>\n",
       "      <th>2015-03-01</th>\n",
       "      <td>-0.377725</td>\n",
       "      <td>-6.684969</td>\n",
       "      <td>58.052961</td>\n",
       "      <td>11848.188371</td>\n",
       "      <td>28.614552</td>\n",
       "      <td>12172.663894</td>\n",
       "    </tr>\n",
       "    <tr>\n",
       "      <th>2015-04-01</th>\n",
       "      <td>-2.602233</td>\n",
       "      <td>5.479458</td>\n",
       "      <td>55.450728</td>\n",
       "      <td>11903.639099</td>\n",
       "      <td>34.094010</td>\n",
       "      <td>12206.757904</td>\n",
       "    </tr>\n",
       "    <tr>\n",
       "      <th>2015-05-01</th>\n",
       "      <td>4.228557</td>\n",
       "      <td>-2.443365</td>\n",
       "      <td>59.679285</td>\n",
       "      <td>11963.318384</td>\n",
       "      <td>31.650645</td>\n",
       "      <td>12238.408549</td>\n",
       "    </tr>\n",
       "    <tr>\n",
       "      <th>2015-06-01</th>\n",
       "      <td>1.559393</td>\n",
       "      <td>0.387639</td>\n",
       "      <td>61.238678</td>\n",
       "      <td>12024.557062</td>\n",
       "      <td>32.038284</td>\n",
       "      <td>12270.446833</td>\n",
       "    </tr>\n",
       "    <tr>\n",
       "      <th>2015-07-01</th>\n",
       "      <td>-0.998410</td>\n",
       "      <td>3.883680</td>\n",
       "      <td>60.240268</td>\n",
       "      <td>12084.797331</td>\n",
       "      <td>35.921964</td>\n",
       "      <td>12306.368797</td>\n",
       "    </tr>\n",
       "    <tr>\n",
       "      <th>2015-08-01</th>\n",
       "      <td>0.364510</td>\n",
       "      <td>-2.356101</td>\n",
       "      <td>60.604779</td>\n",
       "      <td>12145.402109</td>\n",
       "      <td>33.565863</td>\n",
       "      <td>12339.934659</td>\n",
       "    </tr>\n",
       "    <tr>\n",
       "      <th>2015-09-01</th>\n",
       "      <td>-1.210627</td>\n",
       "      <td>-1.224147</td>\n",
       "      <td>59.394151</td>\n",
       "      <td>12204.796261</td>\n",
       "      <td>32.341716</td>\n",
       "      <td>12372.276375</td>\n",
       "    </tr>\n",
       "    <tr>\n",
       "      <th>2015-10-01</th>\n",
       "      <td>0.225877</td>\n",
       "      <td>0.786927</td>\n",
       "      <td>59.620028</td>\n",
       "      <td>12264.416289</td>\n",
       "      <td>33.128643</td>\n",
       "      <td>12405.405019</td>\n",
       "    </tr>\n",
       "    <tr>\n",
       "      <th>2015-11-01</th>\n",
       "      <td>1.338939</td>\n",
       "      <td>0.180974</td>\n",
       "      <td>60.958967</td>\n",
       "      <td>12325.375256</td>\n",
       "      <td>33.309618</td>\n",
       "      <td>12438.714636</td>\n",
       "    </tr>\n",
       "    <tr>\n",
       "      <th>2015-12-01</th>\n",
       "      <td>-0.218585</td>\n",
       "      <td>0.212750</td>\n",
       "      <td>60.740383</td>\n",
       "      <td>12386.115639</td>\n",
       "      <td>33.522368</td>\n",
       "      <td>12472.237004</td>\n",
       "    </tr>\n",
       "  </tbody>\n",
       "</table>\n",
       "</div>"
      ],
      "text/plain": [
       "             Money_2d  Spending_2d    Money1d  MoneyForecast  Spending1d  \\\n",
       "2015-01-01 -16.995276    36.149820  61.604724   11731.704724   46.749820   \n",
       "2015-02-01  -3.174038   -11.450298  58.430686   11790.135410   35.299522   \n",
       "2015-03-01  -0.377725    -6.684969  58.052961   11848.188371   28.614552   \n",
       "2015-04-01  -2.602233     5.479458  55.450728   11903.639099   34.094010   \n",
       "2015-05-01   4.228557    -2.443365  59.679285   11963.318384   31.650645   \n",
       "2015-06-01   1.559393     0.387639  61.238678   12024.557062   32.038284   \n",
       "2015-07-01  -0.998410     3.883680  60.240268   12084.797331   35.921964   \n",
       "2015-08-01   0.364510    -2.356101  60.604779   12145.402109   33.565863   \n",
       "2015-09-01  -1.210627    -1.224147  59.394151   12204.796261   32.341716   \n",
       "2015-10-01   0.225877     0.786927  59.620028   12264.416289   33.128643   \n",
       "2015-11-01   1.338939     0.180974  60.958967   12325.375256   33.309618   \n",
       "2015-12-01  -0.218585     0.212750  60.740383   12386.115639   33.522368   \n",
       "\n",
       "            SpendingForecast  \n",
       "2015-01-01      12108.749820  \n",
       "2015-02-01      12144.049342  \n",
       "2015-03-01      12172.663894  \n",
       "2015-04-01      12206.757904  \n",
       "2015-05-01      12238.408549  \n",
       "2015-06-01      12270.446833  \n",
       "2015-07-01      12306.368797  \n",
       "2015-08-01      12339.934659  \n",
       "2015-09-01      12372.276375  \n",
       "2015-10-01      12405.405019  \n",
       "2015-11-01      12438.714636  \n",
       "2015-12-01      12472.237004  "
      ]
     },
     "execution_count": 49,
     "metadata": {},
     "output_type": "execute_result"
    }
   ],
   "source": [
    "df_forecast"
   ]
  },
  {
   "cell_type": "code",
   "execution_count": 55,
   "metadata": {},
   "outputs": [
    {
     "data": {
      "text/plain": [
       "[Timestamp('2015-01-01 00:00:00', freq='MS'),\n",
       " Timestamp('2015-02-01 00:00:00', freq='MS'),\n",
       " Timestamp('2015-03-01 00:00:00', freq='MS'),\n",
       " Timestamp('2015-04-01 00:00:00', freq='MS'),\n",
       " Timestamp('2015-05-01 00:00:00', freq='MS'),\n",
       " Timestamp('2015-06-01 00:00:00', freq='MS'),\n",
       " Timestamp('2015-07-01 00:00:00', freq='MS'),\n",
       " Timestamp('2015-08-01 00:00:00', freq='MS'),\n",
       " Timestamp('2015-09-01 00:00:00', freq='MS'),\n",
       " Timestamp('2015-10-01 00:00:00', freq='MS'),\n",
       " Timestamp('2015-11-01 00:00:00', freq='MS'),\n",
       " Timestamp('2015-12-01 00:00:00', freq='MS')]"
      ]
     },
     "execution_count": 55,
     "metadata": {},
     "output_type": "execute_result"
    }
   ],
   "source": [
    "list(test.index)"
   ]
  },
  {
   "cell_type": "code",
   "execution_count": 59,
   "metadata": {},
   "outputs": [
    {
     "data": {
      "text/html": [
       "<div>\n",
       "<style scoped>\n",
       "    .dataframe tbody tr th:only-of-type {\n",
       "        vertical-align: middle;\n",
       "    }\n",
       "\n",
       "    .dataframe tbody tr th {\n",
       "        vertical-align: top;\n",
       "    }\n",
       "\n",
       "    .dataframe thead th {\n",
       "        text-align: right;\n",
       "    }\n",
       "</style>\n",
       "<table border=\"1\" class=\"dataframe\">\n",
       "  <thead>\n",
       "    <tr style=\"text-align: right;\">\n",
       "      <th></th>\n",
       "      <th>Money</th>\n",
       "      <th>Spending</th>\n",
       "    </tr>\n",
       "    <tr>\n",
       "      <th>Date</th>\n",
       "      <th></th>\n",
       "      <th></th>\n",
       "    </tr>\n",
       "  </thead>\n",
       "  <tbody>\n",
       "    <tr>\n",
       "      <th>2015-01-01</th>\n",
       "      <td>11733.2</td>\n",
       "      <td>12046.0</td>\n",
       "    </tr>\n",
       "    <tr>\n",
       "      <th>2015-02-01</th>\n",
       "      <td>11852.4</td>\n",
       "      <td>12082.4</td>\n",
       "    </tr>\n",
       "    <tr>\n",
       "      <th>2015-03-01</th>\n",
       "      <td>11868.8</td>\n",
       "      <td>12158.3</td>\n",
       "    </tr>\n",
       "    <tr>\n",
       "      <th>2015-04-01</th>\n",
       "      <td>11916.1</td>\n",
       "      <td>12193.8</td>\n",
       "    </tr>\n",
       "    <tr>\n",
       "      <th>2015-05-01</th>\n",
       "      <td>11947.6</td>\n",
       "      <td>12268.1</td>\n",
       "    </tr>\n",
       "    <tr>\n",
       "      <th>2015-06-01</th>\n",
       "      <td>11993.1</td>\n",
       "      <td>12308.3</td>\n",
       "    </tr>\n",
       "    <tr>\n",
       "      <th>2015-07-01</th>\n",
       "      <td>12045.3</td>\n",
       "      <td>12355.4</td>\n",
       "    </tr>\n",
       "    <tr>\n",
       "      <th>2015-08-01</th>\n",
       "      <td>12096.8</td>\n",
       "      <td>12394.0</td>\n",
       "    </tr>\n",
       "    <tr>\n",
       "      <th>2015-09-01</th>\n",
       "      <td>12153.8</td>\n",
       "      <td>12392.8</td>\n",
       "    </tr>\n",
       "    <tr>\n",
       "      <th>2015-10-01</th>\n",
       "      <td>12187.7</td>\n",
       "      <td>12416.1</td>\n",
       "    </tr>\n",
       "    <tr>\n",
       "      <th>2015-11-01</th>\n",
       "      <td>12277.4</td>\n",
       "      <td>12450.1</td>\n",
       "    </tr>\n",
       "    <tr>\n",
       "      <th>2015-12-01</th>\n",
       "      <td>12335.9</td>\n",
       "      <td>12469.1</td>\n",
       "    </tr>\n",
       "  </tbody>\n",
       "</table>\n",
       "</div>"
      ],
      "text/plain": [
       "              Money  Spending\n",
       "Date                         \n",
       "2015-01-01  11733.2   12046.0\n",
       "2015-02-01  11852.4   12082.4\n",
       "2015-03-01  11868.8   12158.3\n",
       "2015-04-01  11916.1   12193.8\n",
       "2015-05-01  11947.6   12268.1\n",
       "2015-06-01  11993.1   12308.3\n",
       "2015-07-01  12045.3   12355.4\n",
       "2015-08-01  12096.8   12394.0\n",
       "2015-09-01  12153.8   12392.8\n",
       "2015-10-01  12187.7   12416.1\n",
       "2015-11-01  12277.4   12450.1\n",
       "2015-12-01  12335.9   12469.1"
      ]
     },
     "execution_count": 59,
     "metadata": {},
     "output_type": "execute_result"
    }
   ],
   "source": [
    "# test data\n",
    "test_range = data[-nobs:]\n",
    "test_range"
   ]
  },
  {
   "cell_type": "code",
   "execution_count": 60,
   "metadata": {},
   "outputs": [
    {
     "data": {
      "image/png": "[encoded data removed]",
      "text/plain": [
       "<Figure size 1080x360 with 1 Axes>"
      ]
     },
     "metadata": {},
     "output_type": "display_data"
    }
   ],
   "source": [
    "# original test data\n",
    "test_range.plot(figsize = (15,5))\n",
    "plt.show()"
   ]
  },
  {
   "cell_type": "code",
   "execution_count": 62,
   "metadata": {},
   "outputs": [
    {
     "data": {
      "image/png": "[encoded data removed]",
      "text/plain": [
       "<Figure size 1080x360 with 1 Axes>"
      ]
     },
     "metadata": {},
     "output_type": "display_data"
    }
   ],
   "source": [
    "# forcasted results\n",
    "df_forecast[['MoneyForecast','SpendingForecast']].plot(figsize = (15,5))\n",
    "plt.show()"
   ]
  },
  {
   "cell_type": "code",
   "execution_count": 63,
   "metadata": {},
   "outputs": [
    {
     "data": {
      "image/png": "[encoded data removed]",
      "text/plain": [
       "<Figure size 1080x360 with 1 Axes>"
      ]
     },
     "metadata": {},
     "output_type": "display_data"
    }
   ],
   "source": [
    "test_range['Money'].plot(figsize = (15,5), legend = True)\n",
    "df_forecast['MoneyForecast'].plot(legend = True)\n",
    "plt.show()"
   ]
  },
  {
   "cell_type": "code",
   "execution_count": 64,
   "metadata": {},
   "outputs": [
    {
     "data": {
      "image/png": "[encoded data removed]",
      "text/plain": [
       "<Figure size 1080x360 with 1 Axes>"
      ]
     },
     "metadata": {},
     "output_type": "display_data"
    }
   ],
   "source": [
    "test_range['Spending'].plot(figsize = (15,5), legend = True)\n",
    "df_forecast['SpendingForecast'].plot(legend = True)\n",
    "plt.show()"
   ]
  },
  {
   "cell_type": "code",
   "execution_count": 65,
   "metadata": {},
   "outputs": [
    {
     "name": "stdout",
     "output_type": "stream",
     "text": [
      "43.71049653558938\n",
      "37.00117516940808\n"
     ]
    }
   ],
   "source": [
    "# error metrics\n",
    "print(rmse(test_range['Money'], df_forecast['MoneyForecast']))\n",
    "print(rmse(test_range['Spending'], df_forecast['SpendingForecast']))"
   ]
  },
  {
   "cell_type": "code",
   "execution_count": null,
   "metadata": {},
   "outputs": [],
   "source": []
  }
 ],
 "metadata": {
  "kernelspec": {
   "display_name": "Python 3",
   "language": "python",
   "name": "python3"
  },
  "language_info": {
   "codemirror_mode": {
    "name": "ipython",
    "version": 3
   },
   "file_extension": ".py",
   "mimetype": "text/x-python",
   "name": "python",
   "nbconvert_exporter": "python",
   "pygments_lexer": "ipython3",
   "version": "3.7.6"
  }
 },
 "nbformat": 4,
 "nbformat_minor": 4
}
